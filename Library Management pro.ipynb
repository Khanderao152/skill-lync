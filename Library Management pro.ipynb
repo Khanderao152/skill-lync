{
 "cells": [
  {
   "cell_type": "code",
   "execution_count": 1,
   "id": "c52fb78a",
   "metadata": {},
   "outputs": [],
   "source": [
    "# Libraries\n",
    "import tkinter\n",
    "from tkinter import*\n",
    "\n",
    "import sqlite3 as sq\n",
    "\n",
    "import tkinter.ttk as ttk\n",
    "import tkinter.messagebox as tkMessageBox"
   ]
  },
  {
   "cell_type": "code",
   "execution_count": 2,
   "id": "1d42b317",
   "metadata": {},
   "outputs": [
    {
     "data": {
      "text/plain": [
       "''"
      ]
     },
     "execution_count": 2,
     "metadata": {},
     "output_type": "execute_result"
    }
   ],
   "source": [
    "root=Tk()\n",
    "root.title('Library Management System')\n",
    "root.geometry('1200x800')"
   ]
  },
  {
   "cell_type": "code",
   "execution_count": 3,
   "id": "037ae252",
   "metadata": {},
   "outputs": [],
   "source": [
    "# Methods\n",
    "\n",
    "def Database():\n",
    "    global conn,cursor\n",
    "    conn=sq.connect('books.db')\n",
    "    cursor = conn.cursor()\n",
    "    cursor.execute(\"CREATE TABLE IF NOT EXISTS mybooks(id INTEGER PRIMARY KEY AUTOINCREMENT NOT NULL, Booktitle TEXT, Author TEXT, Year TEXT, ISBN TEXT)\")"
   ]
  },
  {
   "cell_type": "code",
   "execution_count": 4,
   "id": "3ebefb45",
   "metadata": {},
   "outputs": [],
   "source": [
    "def Add():\n",
    "    if BOOKTITLE.get()==\"\" or AUTHOR.get()==\"\" or YEAR.get() ==\"\":\n",
    "        txt_result.config(text=\"Please enter all the field\",fg=\"red\")\n",
    "    else:\n",
    "        Database()\n",
    "        cursor.execute(\"INSERT INTO mybooks (Booktitle,Author,Year,Isbn) VALUES(?,?,?,?)\",(str(BOOKTITLE.get()),str(AUTHOR.get()),str(YEAR.get()),str(ISBN.get())))\n",
    "        conn.commit()\n",
    "        BOOKTITLE.set(\"\")\n",
    "        AUTHOR.set(\"\")\n",
    "        YEAR.set(\"\")\n",
    "        ISBN.set(\"\")\n",
    "        cursor.close()\n",
    "        conn.close()\n",
    "        txt_result.config(text=\"Record Inserted !\", fg=\"green\")"
   ]
  },
  {
   "cell_type": "code",
   "execution_count": 5,
   "id": "cb017d8c",
   "metadata": {},
   "outputs": [],
   "source": [
    "def Search():\n",
    "    if BOOKTITLE.get()=='' and AUTHOR.get()=='' and YEAR.get()=='' and ISBN.get()=='':\n",
    "        txt_result.config(text='Please Enter any of the details to search',fg='red')\n",
    "    else:\n",
    "        tree.delete(*tree.get_children())\n",
    "        Database()\n",
    "        cursor.execute(\"SELECT * FROM mybooks WHERE Booktitle=? OR Author = ? OR Year = ? OR Isbn = ?\",(str(BOOKTITLE.get()),str(AUTHOR.get()),str(YEAR.get()),str(ISBN.get())))\n",
    "        rows = cursor.fetchall()\n",
    "        for data in rows:\n",
    "            tree.insert('','end',values=(data[1],data[2],data[3],data[4]))\n",
    "        BOOKTITLE.set(\"\")\n",
    "        AUTHOR.set(\"\")\n",
    "        YEAR.set(\"\")\n",
    "        ISBN.set(\"\")\n",
    "        cursor.close()\n",
    "        conn.close()\n",
    "        txt_result.config(text=\"Search completed and results displayed !\", fg=\"green\")"
   ]
  },
  {
   "cell_type": "code",
   "execution_count": 6,
   "id": "bb68317e",
   "metadata": {},
   "outputs": [],
   "source": [
    "def Display():\n",
    "    tree.delete(*tree.get_children())\n",
    "    Database()\n",
    "    cursor.execute(\"SELECT * FROM mybooks\")\n",
    "    fetch = cursor.fetchall()\n",
    "    for data in fetch:\n",
    "        tree.insert('','end',values=(data[1],data[2],data[3],data[4]))\n",
    "    cursor.close()\n",
    "    conn.close()\n",
    "    txt_result.config(text=\"Successfully fetched data !\", fg=\"blue\")\n"
   ]
  },
  {
   "cell_type": "code",
   "execution_count": 7,
   "id": "24008380",
   "metadata": {},
   "outputs": [],
   "source": [
    "def Exit():\n",
    "    result=tkMessageBox.askquestion('Do you want to exit ? (y/n)',icon='warning')\n",
    "    if result == 'yes':\n",
    "        root.destroy()\n",
    "        exit()"
   ]
  },
  {
   "cell_type": "code",
   "execution_count": 8,
   "id": "158e549a",
   "metadata": {},
   "outputs": [],
   "source": [
    "def Delete():\n",
    "    if BOOKTITLE.get()=='' and AUTHOR.get()=='' and YEAR.get()=='' and ISBN.get()=='':\n",
    "        txt_result.config(text='Please Enter any of the details to delete',fg='red')\n",
    "    else:\n",
    "        Database()\n",
    "        cursor.execute(\"SELECT * FROM mybooks WHERE Booktitle=? OR Author = ? OR Year = ? OR Isbn = ?\",(str(BOOKTITLE.get()),str(AUTHOR.get()),str(YEAR.get()),str(ISBN.get())))\n",
    "        conn.commit()\n",
    "        BOOKTITLE.set(\"\")\n",
    "        AUTHOR.set(\"\")\n",
    "        YEAR.set(\"\")\n",
    "        ISBN.set(\"\")\n",
    "        cursor.close()\n",
    "        conn.close()\n",
    "        txt_result.config(text=\"Successfully deleted data and removed completely from the system !\", fg=\"blue\") "
   ]
  },
  {
   "cell_type": "code",
   "execution_count": 9,
   "id": "fc7c355f",
   "metadata": {},
   "outputs": [],
   "source": [
    "def Issue():\n",
    "    if BOOKTITLE.get()=='' and AUTHOR.get()=='' and YEAR.get()=='':\n",
    "        txt_result.config(text='Please Enter any of the details to delete',fg='red')\n",
    "    else:\n",
    "        BOOKTITLE.set(\"\")\n",
    "        AUTHOR.set(\"\")\n",
    "        YEAR.set(\"\")\n",
    "        ISBN.set(\"\")\n",
    "        cursor.close()\n",
    "        conn.close()\n",
    "        txt_result.config(text=\"Successfully issued the book....!\", fg=\"black\") "
   ]
  },
  {
   "cell_type": "code",
   "execution_count": 10,
   "id": "6d659cad",
   "metadata": {},
   "outputs": [],
   "source": [
    "# variable declaration\n",
    "\n",
    "BOOKTITLE=  StringVar()\n",
    "AUTHOR= StringVar() \n",
    "YEAR= StringVar() \n",
    "ISBN= StringVar() \n",
    " "
   ]
  },
  {
   "cell_type": "code",
   "execution_count": 11,
   "id": "34609ca9",
   "metadata": {},
   "outputs": [],
   "source": [
    "# Frame \n",
    "\n",
    "Top = Frame(root,width=1200,height=100,bg='blue',bd=8,relief='raise')\n",
    "Top.pack(side=TOP)\n",
    "Left=Frame(root,width=1000,height=800,bg='red',bd=8,relief='raise')\n",
    "Left.pack(side=LEFT)\n",
    "Right=Frame(root,width=300,height=800,bg='yellow',bd=8,relief='raise')\n",
    "Right.pack(side=RIGHT)\n",
    "\n",
    "Forms= Frame(Left,width=1000,height=800)\n",
    "Forms.pack(side=TOP)\n",
    "\n",
    "Buttons=Frame(Left,width=1000,height=100,bd=8,relief='raise')\n",
    "Buttons.pack(side=BOTTOM)"
   ]
  },
  {
   "cell_type": "code",
   "execution_count": null,
   "id": "24c9b8d9",
   "metadata": {},
   "outputs": [],
   "source": [
    "# Labels \n",
    "\n",
    "main_title=Label(Top,width=1000,font=('arial',24),text=\".....Library Management Application.......\")\n",
    "main_title.pack()\n",
    "\n",
    "txt_Booktitle=Label(Forms,text='Booktitle:',font=('arial',16),bd=15)\n",
    "txt_Booktitle.grid(row=0,stick='e')\n",
    "txt_Author=Label(Forms,text='Author:',font=('arial',16),bd=15)\n",
    "txt_Author.grid(row=1,stick='e')\n",
    "txt_Year=Label(Forms,text='Year:',font=('arial',16),bd=15)\n",
    "txt_Year.grid(row=2,stick='e')\n",
    "txt_ISBN=Label(Forms,text='ISBN:',font=('arial',16),bd=15)\n",
    "txt_ISBN.grid(row=3,stick='e')\n",
    "\n",
    "txt_result=Label(Buttons)\n",
    "txt_result.pack  #(side=TOP)\n",
    "\n",
    "\n",
    "#=====================================================ENTRY WIDGET=======================================\n",
    "Booktitle=Entry(Forms,textvariable=BOOKTITLE,width=30)\n",
    "Booktitle.grid(row=0,column=1)\n",
    "Author=Entry(Forms,textvariable=AUTHOR,width=30)\n",
    "Author.grid(row=1,column=1)\n",
    " \n",
    "Year=Entry(Forms,textvariable=YEAR,width=30)\n",
    "Year.grid(row=2,column=1)\n",
    "ISBN=Entry(Forms,textvariable=ISBN,width=30)\n",
    "ISBN.grid(row=3,column=1)\n",
    " \n",
    "#==========================Buttons Widget========================================\n",
    "\n",
    "btn_display=Button(Buttons,width=10,text=\"Display\",command=Display)\n",
    "btn_display.pack(side=LEFT)\n",
    "btn_search=Button(Buttons,width=10,text=\"Search\",command=Search)\n",
    "btn_search.pack(side=LEFT)\n",
    "btn_add=Button(Buttons,width=10,text=\"Add\",command=Add)\n",
    "btn_add.pack(side=LEFT)\n",
    "btn_issue=Button(Buttons,width=10,text=\"Issue\",command=Issue)\n",
    "btn_issue.pack(side=LEFT)\n",
    "btn_delete=Button(Buttons,width=10,text=\"Delete\",command=Delete)\n",
    "btn_delete.pack(side=LEFT)\n",
    "btn_exit=Button(Buttons,width=10,text=\"Exit\",command=Exit)\n",
    "btn_exit.pack(side=LEFT)\n",
    "\n",
    "#=======================================List WIDGET============================================\n",
    "\n",
    "scrollbary=Scrollbar(Right,orient=VERTICAL)\n",
    "scrollbarx=Scrollbar(Right,orient=HORIZONTAL)\n",
    "\n",
    "tree=ttk.Treeview(Right,columns=(\"Booktitle\",\"Author\",\"Year\",\"ISBN\"))\n",
    "\n",
    "scrollbary.config(command=tree.yview)\n",
    "scrollbary.pack(side=RIGHT,fill=Y)\n",
    "scrollbarx.config(command=tree.xview)\n",
    "scrollbarx.pack(side=BOTTOM,fill=X)\n",
    "\n",
    "tree.heading('Booktitle',text=\"Booktitle\",anchor=W)\n",
    "tree.heading('Author',text=\"Author\",anchor=W)\n",
    "tree.heading('Year',text=\"Year\",anchor=W)\n",
    "tree.heading('ISBN',text=\"ISBN\",anchor=W)\n",
    "\n",
    " \n",
    "tree.column('#0',stretch=NO,minwidth=0,width=0)\n",
    "tree.column('#1',stretch=NO,minwidth=0,width=200)\n",
    "tree.column('#2',stretch=NO,minwidth=0,width=100)\n",
    "tree.column('#3',stretch=NO,minwidth=0,width=50)\n",
    "tree.column('#4',stretch=NO,minwidth=0,width=100)\n",
    "tree.pack()\n",
    "\n",
    "\n",
    "#====================================INTIALIZATION===============================#\n",
    "if __name__=='__main__':\n",
    "    root.mainloop()"
   ]
  },
  {
   "cell_type": "code",
   "execution_count": null,
   "id": "7063f725",
   "metadata": {},
   "outputs": [],
   "source": []
  }
 ],
 "metadata": {
  "kernelspec": {
   "display_name": "Python 3 (ipykernel)",
   "language": "python",
   "name": "python3"
  },
  "language_info": {
   "codemirror_mode": {
    "name": "ipython",
    "version": 3
   },
   "file_extension": ".py",
   "mimetype": "text/x-python",
   "name": "python",
   "nbconvert_exporter": "python",
   "pygments_lexer": "ipython3",
   "version": "3.9.12"
  }
 },
 "nbformat": 4,
 "nbformat_minor": 5
}
